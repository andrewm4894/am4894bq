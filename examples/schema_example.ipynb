{
 "cells": [
  {
   "cell_type": "code",
   "execution_count": null,
   "metadata": {},
   "outputs": [
    {
     "name": "stdout",
     "output_type": "stream",
     "text": [
      "The autoreload extension is already loaded. To reload it, use:\n",
      "  %reload_ext autoreload\n"
     ]
    }
   ],
   "source": [
    "%load_ext autoreload\n",
    "%autoreload 2"
   ]
  },
  {
   "cell_type": "code",
   "execution_count": null,
   "metadata": {},
   "outputs": [],
   "source": [
    "import os\n",
    "from dotenv import load_dotenv\n",
    "import pandas as pd\n",
    "from am4894bq.schema import get_schema, df_to_bq_schema\n",
    "\n",
    "load_dotenv()\n",
    "\n",
    "bq_project_id = os.getenv('BQ_PROJECT_ID')\n",
    "table_id = f'{bq_project_id}.tmp.tmp'"
   ]
  },
  {
   "cell_type": "code",
   "execution_count": null,
   "metadata": {},
   "outputs": [
    {
     "name": "stdout",
     "output_type": "stream",
     "text": [
      "(3, 2)\n",
      "   col1  col2\n",
      "0     1     2\n",
      "1     1     2\n",
      "2     1     2\n"
     ]
    }
   ],
   "source": [
    "# make a df\n",
    "data = [\n",
    "    [1, 2],\n",
    "    [1, 2],\n",
    "    [1, 2],\n",
    "]\n",
    "cols = ['col1', 'col2']\n",
    "df = pd.DataFrame(data, columns=cols)\n",
    "print(df.shape)\n",
    "print(df)"
   ]
  },
  {
   "cell_type": "code",
   "execution_count": null,
   "metadata": {},
   "outputs": [
    {
     "name": "stdout",
     "output_type": "stream",
     "text": [
      "[SchemaField('col1', 'INTEGER', 'NULLABLE', None, ()), SchemaField('col2', 'INTEGER', 'NULLABLE', None, ())]\n"
     ]
    }
   ],
   "source": [
    "# get schema\n",
    "schema = df_to_bq_schema(df)\n",
    "print(schema)"
   ]
  },
  {
   "cell_type": "code",
   "execution_count": null,
   "metadata": {},
   "outputs": [
    {
     "name": "stderr",
     "output_type": "stream",
     "text": [
      "1it [00:02,  2.82s/it]\n"
     ]
    }
   ],
   "source": [
    "# save to bq\n",
    "df.to_gbq('tmp.tmp', project_id=bq_project_id, if_exists='replace')"
   ]
  },
  {
   "cell_type": "code",
   "execution_count": null,
   "metadata": {},
   "outputs": [
    {
     "data": {
      "text/plain": [
       "[SchemaField('col1', 'INTEGER', 'NULLABLE', None, ()),\n",
       " SchemaField('col2', 'INTEGER', 'NULLABLE', None, ())]"
      ]
     },
     "execution_count": null,
     "metadata": {},
     "output_type": "execute_result"
    }
   ],
   "source": [
    "# now get the schema from bq\n",
    "schema = get_schema(table_id)\n",
    "schema"
   ]
  },
  {
   "cell_type": "code",
   "execution_count": null,
   "metadata": {},
   "outputs": [
    {
     "name": "stdout",
     "output_type": "stream",
     "text": [
      "(4, 2)\n",
      "  col2  col3\n",
      "0    2     3\n",
      "1    2     3\n",
      "2    2     3\n",
      "2    x     3\n"
     ]
    }
   ],
   "source": [
    "# add col3\n",
    "df['col3'] = 3\n",
    "\n",
    "# drop col1\n",
    "df = df.drop(['col1'], axis=1)\n",
    "\n",
    "# change col2 to string\n",
    "df['col2'] = df['col2'].astype('str')\n",
    "\n",
    "# append a new strange row\n",
    "df_tmp = df.tail(1).copy()\n",
    "df_tmp['col2'] = 'x'\n",
    "df = df.append(df_tmp)\n",
    "\n",
    "print(df.shape)\n",
    "print(df)"
   ]
  },
  {
   "cell_type": "code",
   "execution_count": null,
   "metadata": {},
   "outputs": [
    {
     "data": {
      "text/plain": [
       "[SchemaField('col2', 'STRING', 'NULLABLE', None, ()),\n",
       " SchemaField('col3', 'INTEGER', 'NULLABLE', None, ())]"
      ]
     },
     "execution_count": null,
     "metadata": {},
     "output_type": "execute_result"
    }
   ],
   "source": [
    "new_schema = df_to_bq_schema(df)\n",
    "new_schema"
   ]
  },
  {
   "cell_type": "code",
   "execution_count": null,
   "metadata": {},
   "outputs": [],
   "source": [
    "def schema_diff(old_schema, new_schema):\n",
    "    old_schema_dict = {col.name:col for col in old_schema}\n",
    "    new_schema_dict = {col.name:col for col in new_schema}\n",
    "    diffs = []\n",
    "    for col in new_schema_dict:\n",
    "        if col not in old_schema_dict:\n",
    "            diffs.append(('add', new_schema_dict[col]))\n",
    "        elif new_schema_dict[col] != old_schema_dict[col]:\n",
    "            diffs.append(('update', old_schema_dict[col], new_schema_dict[col]))\n",
    "    for col in old_schema_dict:\n",
    "        if col not in new_schema_dict:\n",
    "            diffs.append(('drop', old_schema_dict[col]))\n",
    "    return diffs"
   ]
  },
  {
   "cell_type": "code",
   "execution_count": null,
   "metadata": {},
   "outputs": [
    {
     "data": {
      "text/plain": [
       "[('update',\n",
       "  SchemaField('col2', 'INTEGER', 'NULLABLE', None, ()),\n",
       "  SchemaField('col2', 'STRING', 'NULLABLE', None, ())),\n",
       " ('add', SchemaField('col3', 'INTEGER', 'NULLABLE', None, ())),\n",
       " ('drop', SchemaField('col1', 'INTEGER', 'NULLABLE', None, ()))]"
      ]
     },
     "execution_count": null,
     "metadata": {},
     "output_type": "execute_result"
    }
   ],
   "source": [
    "diffs = schema_diff(schema, new_schema)\n",
    "diffs"
   ]
  },
  {
   "cell_type": "code",
   "execution_count": null,
   "metadata": {},
   "outputs": [],
   "source": []
  }
 ],
 "metadata": {
  "kernelspec": {
   "display_name": "Python 3",
   "language": "python",
   "name": "python3"
  }
 },
 "nbformat": 4,
 "nbformat_minor": 4
}
