{
 "cells": [
  {
   "cell_type": "code",
   "execution_count": null,
   "metadata": {},
   "outputs": [],
   "source": [
    "#hide\n",
    "%load_ext autoreload\n",
    "%autoreload 2"
   ]
  },
  {
   "cell_type": "code",
   "execution_count": null,
   "metadata": {},
   "outputs": [],
   "source": [
    "#hide\n",
    "#export\n",
    "import pandas as pd\n",
    "from dotenv import load_dotenv\n",
    "load_dotenv()\n",
    "from google.cloud import bigquery\n",
    "from am4894bq.schema import get_schema, df_to_bq_schema, schema_diff, update_bq_schema, update_df_schema\n",
    "from am4894bq.utils import does_table_exist"
   ]
  },
  {
   "cell_type": "code",
   "execution_count": null,
   "metadata": {},
   "outputs": [],
   "source": [
    "# default_exp pd"
   ]
  },
  {
   "cell_type": "markdown",
   "metadata": {},
   "source": [
    "# pd\n",
    "\n",
    "> Pandas related BigQuery functionality."
   ]
  },
  {
   "cell_type": "code",
   "execution_count": null,
   "metadata": {},
   "outputs": [],
   "source": [
    "#hide\n",
    "from nbdev.showdoc import *"
   ]
  },
  {
   "cell_type": "code",
   "execution_count": null,
   "metadata": {},
   "outputs": [],
   "source": [
    "#export\n",
    "\n",
    "\n",
    "def df_to_gbq(df: pd.DataFrame, destination_table: str, project_id: str, if_exists: str = 'append') -> True:\n",
    "    \"\"\"\n",
    "    Save df to BigQuery enforcing schema consistency between df and destination table if it exists.\n",
    "    \"\"\"\n",
    "    \n",
    "    table_id = f'{project_id}.{destination_table}'\n",
    "    old_schema = get_schema(table_id)\n",
    "    new_schema = df_to_bq_schema(df)\n",
    "    diffs = schema_diff(old_schema, new_schema)\n",
    "    \n",
    "    bq_client = bigquery.Client()\n",
    "    \n",
    "    if does_table_exist(bq_client, table_id):\n",
    "        # update the table schema in BigQuery\n",
    "        update_bq_schema(bq_client, table_id, diffs)\n",
    "\n",
    "    # update the df schema to be as expected by BigQuery\n",
    "    df = update_df_schema(bq_client, table_id, diffs, df)\n",
    "    \n",
    "    # load to BigQuery\n",
    "    df.to_gbq(destination_table, project_id=project_id, if_exists=if_exists)\n",
    "    \n",
    "    return True\n",
    "\n"
   ]
  },
  {
   "cell_type": "code",
   "execution_count": null,
   "metadata": {},
   "outputs": [],
   "source": []
  },
  {
   "cell_type": "code",
   "execution_count": null,
   "metadata": {},
   "outputs": [],
   "source": []
  }
 ],
 "metadata": {
  "kernelspec": {
   "display_name": "Python 3",
   "language": "python",
   "name": "python3"
  }
 },
 "nbformat": 4,
 "nbformat_minor": 4
}
