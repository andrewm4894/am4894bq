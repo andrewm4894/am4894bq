{
 "cells": [
  {
   "cell_type": "code",
   "execution_count": null,
   "metadata": {},
   "outputs": [],
   "source": [
    "#hide\n",
    "%load_ext autoreload\n",
    "%autoreload 2"
   ]
  },
  {
   "cell_type": "code",
   "execution_count": null,
   "metadata": {},
   "outputs": [],
   "source": [
    "#hide\n",
    "#export\n",
    "import os\n",
    "import pandas as pd\n",
    "from dotenv import load_dotenv\n",
    "from google.cloud import bigquery\n",
    "from am4894bq.schema import get_schema, df_to_bq_schema, schema_diff, update_bq_schema, update_df_schema\n",
    "from am4894bq.utils import does_table_exist\n",
    "\n",
    "load_dotenv()\n",
    "\n",
    "bq_project_id = os.getenv('BQ_PROJECT_ID')"
   ]
  },
  {
   "cell_type": "code",
   "execution_count": null,
   "metadata": {},
   "outputs": [],
   "source": [
    "# default_exp pd"
   ]
  },
  {
   "cell_type": "markdown",
   "metadata": {},
   "source": [
    "# pd\n",
    "\n",
    "> Pandas related BigQuery functionality."
   ]
  },
  {
   "cell_type": "code",
   "execution_count": null,
   "metadata": {},
   "outputs": [],
   "source": [
    "#hide\n",
    "from nbdev.showdoc import *"
   ]
  },
  {
   "cell_type": "code",
   "execution_count": null,
   "metadata": {},
   "outputs": [],
   "source": [
    "#export\n",
    "\n",
    "\n",
    "def df_to_gbq(df: pd.DataFrame, destination_table: str, project_id: str, if_exists: str = 'append', print_info: bool = True, mode: str = 'pandas') -> pd.DataFrame:\n",
    "    \"\"\"\n",
    "    Save df to BigQuery enforcing schema consistency between df and destination table if it exists.\n",
    "    \"\"\"\n",
    "    \n",
    "    # only do anything if mode set to wrangle, otherwise just use pandas\n",
    "    if mode == 'wrangle':\n",
    "    \n",
    "        table_id = f'{project_id}.{destination_table}'\n",
    "        bq_client = bigquery.Client()\n",
    "\n",
    "        # only need to handle schema's if table already exists and if_exists != 'replace'\n",
    "        if does_table_exist(bq_client, table_id) and if_exists != 'replace' :\n",
    "\n",
    "            old_schema = get_schema(table_id)\n",
    "            new_schema = df_to_bq_schema(df)\n",
    "            diffs = schema_diff(old_schema, new_schema)\n",
    "\n",
    "            if len(diffs) > 0:\n",
    "\n",
    "                # update the table schema in BigQuery\n",
    "                update_bq_schema(bq_client, table_id, diffs, print_info=print_info)\n",
    "\n",
    "                # update the df schema to be as expected by BigQuery\n",
    "                df = update_df_schema(bq_client, table_id, diffs, df, print_info=print_info)\n",
    "        \n",
    "    # load to BigQuery\n",
    "    df.to_gbq(destination_table, project_id=project_id, if_exists=if_exists)\n",
    "            \n",
    "    return df\n",
    "\n"
   ]
  },
  {
   "cell_type": "code",
   "execution_count": null,
   "metadata": {},
   "outputs": [
    {
     "name": "stderr",
     "output_type": "stream",
     "text": [
      "1it [00:04,  4.51s/it]\n",
      "Downloading: 100%|██████████| 2/2 [00:00<00:00,  9.56rows/s]\n",
      "1it [00:02,  2.97s/it]\n",
      "Downloading: 100%|██████████| 4/4 [00:00<00:00, 21.72rows/s]\n"
     ]
    }
   ],
   "source": [
    "#hide\n",
    "\n",
    "# tests\n",
    "\n",
    "# make a dummy df\n",
    "df = pd.DataFrame([['a0', 'b0'],['a1', 'b1']], columns=['col_a', 'col_b'])\n",
    "\n",
    "# send to bq\n",
    "df = df_to_gbq(df, 'tmp.tmp', project_id=bq_project_id, if_exists='replace', mode='wrangle')\n",
    "\n",
    "# read back from bq\n",
    "df_bq = pd.read_gbq(\"select * from tmp.tmp\")\n",
    "\n",
    "assert str(df) == str(df_bq)\n",
    "\n",
    "# add a new col to df\n",
    "df['col_c'] = ['c0', 'c1']\n",
    "\n",
    "# drop col_b\n",
    "df = df.drop(['col_b'], axis=1)\n",
    "\n",
    "# save to bq\n",
    "df = df_to_gbq(df, 'tmp.tmp', project_id=bq_project_id, if_exists='append', print_info=False, mode='wrangle')\n",
    "\n",
    "# read back from bq\n",
    "df_bq = pd.read_gbq(\"select * from tmp.tmp\")\n",
    "\n",
    "assert str(df_bq) == '  col_a col_b col_c\\n0    a0    b0  None\\n1    a1    b1  None\\n2    a0  None    c0\\n3    a1  None    c1'"
   ]
  },
  {
   "cell_type": "code",
   "execution_count": null,
   "metadata": {},
   "outputs": [],
   "source": []
  }
 ],
 "metadata": {
  "kernelspec": {
   "display_name": "Python 3",
   "language": "python",
   "name": "python3"
  }
 },
 "nbformat": 4,
 "nbformat_minor": 4
}
