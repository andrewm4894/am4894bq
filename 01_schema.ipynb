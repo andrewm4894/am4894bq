{
 "cells": [
  {
   "cell_type": "code",
   "execution_count": null,
   "metadata": {},
   "outputs": [],
   "source": [
    "#hide\n",
    "%load_ext autoreload\n",
    "%autoreload 2"
   ]
  },
  {
   "cell_type": "code",
   "execution_count": null,
   "metadata": {},
   "outputs": [],
   "source": [
    "#hide\n",
    "#export\n",
    "import pandas as pd\n",
    "from dotenv import load_dotenv\n",
    "load_dotenv()\n",
    "from google.cloud import bigquery"
   ]
  },
  {
   "cell_type": "code",
   "execution_count": null,
   "metadata": {},
   "outputs": [],
   "source": [
    "# default_exp schema"
   ]
  },
  {
   "cell_type": "markdown",
   "metadata": {},
   "source": [
    "# schema\n",
    "\n",
    "> Functionality related to dealing with schemas in BigQuery."
   ]
  },
  {
   "cell_type": "code",
   "execution_count": null,
   "metadata": {},
   "outputs": [],
   "source": [
    "#hide\n",
    "from nbdev.showdoc import *"
   ]
  },
  {
   "cell_type": "code",
   "execution_count": null,
   "metadata": {},
   "outputs": [],
   "source": [
    "#export\n",
    "\n",
    "\n",
    "def get_schema(table_id: str) -> list:\n",
    "    \"\"\"\n",
    "    Get schema given a table_id.\n",
    "    \"\"\"\n",
    "    client = bigquery.Client()\n",
    "    table = client.get_table(table_id)\n",
    "    schema = table.schema\n",
    "    return schema\n",
    "\n"
   ]
  },
  {
   "cell_type": "code",
   "execution_count": null,
   "metadata": {},
   "outputs": [
    {
     "data": {
      "text/plain": [
       "[SchemaField('word', 'STRING', 'REQUIRED', 'A single unique word (where whitespace is the delimiter) extracted from a corpus.', ()),\n",
       " SchemaField('word_count', 'INTEGER', 'REQUIRED', 'The number of times this word appears in this corpus.', ()),\n",
       " SchemaField('corpus', 'STRING', 'REQUIRED', 'The work from which this word was extracted.', ()),\n",
       " SchemaField('corpus_date', 'INTEGER', 'REQUIRED', 'The year in which this corpus was published.', ())]"
      ]
     },
     "execution_count": null,
     "metadata": {},
     "output_type": "execute_result"
    }
   ],
   "source": [
    "# for example get a schema for a sample table\n",
    "schema = get_schema('bigquery-public-data.samples.shakespeare')\n",
    "schema"
   ]
  },
  {
   "cell_type": "code",
   "execution_count": null,
   "metadata": {},
   "outputs": [],
   "source": [
    "# tests\n",
    "assert len(schema) == 4\n",
    "assert [col.name for col in schema] == ['word', 'word_count', 'corpus', 'corpus_date']"
   ]
  },
  {
   "cell_type": "code",
   "execution_count": null,
   "metadata": {},
   "outputs": [],
   "source": [
    "#export\n",
    "\n",
    "\n",
    "def dtype_to_bqtype(dtype, default_type: str = 'STRING') -> str:\n",
    "    \"\"\"\n",
    "    Convert from a pandas type to BigQuery type.\n",
    "    \"\"\"\n",
    "    bqtype = default_type\n",
    "    if dtype == 'int64':\n",
    "        bqtype = 'INTEGER'\n",
    "    return bqtype\n",
    "\n"
   ]
  },
  {
   "cell_type": "code",
   "execution_count": null,
   "metadata": {},
   "outputs": [],
   "source": [
    "#export\n",
    "\n",
    "\n",
    "def df_to_bq_schema(df: pd.DataFrame) -> list:\n",
    "    \"\"\"\n",
    "    Read a pandas DF and return a BigQuery schema for that DF.\n",
    "    \"\"\"\n",
    "    schema = []\n",
    "    for col, dtype in df.dtypes.iteritems():\n",
    "        schema.append(bigquery.SchemaField(col, dtype_to_bqtype(dtype)))\n",
    "    return schema\n",
    "\n"
   ]
  },
  {
   "cell_type": "code",
   "execution_count": null,
   "metadata": {},
   "outputs": [
    {
     "name": "stdout",
     "output_type": "stream",
     "text": [
      "(3, 2)\n",
      "   col1  col2\n",
      "0     1     2\n",
      "1     1     2\n",
      "2     1     2\n",
      "[SchemaField('col1', 'INTEGER', 'NULLABLE', None, ()), SchemaField('col2', 'INTEGER', 'NULLABLE', None, ())]\n"
     ]
    }
   ],
   "source": [
    "# example usage\n",
    "\n",
    "# make a df\n",
    "df = pd.DataFrame([[1, 2], [1, 2], [1, 2]], columns=['col1', 'col2'])\n",
    "print(df.shape)\n",
    "print(df)\n",
    "\n",
    "# get bq schema\n",
    "schema = df_to_bq_schema(df)\n",
    "print(schema)"
   ]
  },
  {
   "cell_type": "code",
   "execution_count": null,
   "metadata": {},
   "outputs": [],
   "source": [
    "#hide\n",
    "\n",
    "# tests \n",
    "assert len(schema) == 2\n",
    "assert [col.name for col in schema] == ['col1', 'col2']"
   ]
  },
  {
   "cell_type": "code",
   "execution_count": null,
   "metadata": {},
   "outputs": [],
   "source": [
    "#export\n",
    "\n",
    "\n",
    "def schema_diff(old_schema, new_schema) -> list:\n",
    "    \"\"\"\n",
    "    Compare two BigQuery schemas and return a list of differences.\n",
    "    \"\"\"\n",
    "    old_schema_dict = {col.name:col for col in old_schema}\n",
    "    new_schema_dict = {col.name:col for col in new_schema}\n",
    "    diffs = []\n",
    "    for col in new_schema_dict:\n",
    "        if col not in old_schema_dict:\n",
    "            diffs.append(('add', new_schema_dict[col]))\n",
    "        elif new_schema_dict[col] != old_schema_dict[col]:\n",
    "            diffs.append(('update', old_schema_dict[col], new_schema_dict[col]))\n",
    "    for col in old_schema_dict:\n",
    "        if col not in new_schema_dict:\n",
    "            diffs.append(('drop', old_schema_dict[col]))\n",
    "    return diffs\n",
    "\n"
   ]
  },
  {
   "cell_type": "code",
   "execution_count": null,
   "metadata": {},
   "outputs": [],
   "source": [
    "#hide\n",
    "\n",
    "# tests\n",
    "old_schema = [bigquery.SchemaField(\"col1\", \"STRING\"),bigquery.SchemaField(\"col2\", \"STRING\")]\n",
    "new_schema = [bigquery.SchemaField(\"col2\", \"STRING\"),bigquery.SchemaField(\"col3\", \"STRING\")]\n",
    "expected_diff = [('add', bigquery.SchemaField(\"col3\", \"STRING\")),('drop', bigquery.SchemaField(\"col1\", \"STRING\"))]\n",
    "actual_diff = schema_diff(old_schema, new_schema)\n",
    "assert actual_diff == expected_diff"
   ]
  },
  {
   "cell_type": "code",
   "execution_count": null,
   "metadata": {},
   "outputs": [],
   "source": [
    "#export\n",
    "\n",
    "\n",
    "def update_bq_schema(bq_client, table_id: str, diffs: list, print_info: bool = True) -> bool:\n",
    "    \"\"\"\n",
    "    Given a list of diffs and a table_id add any new columns to table.\n",
    "    \"\"\"\n",
    "    # only do work if some 'add's in diffs\n",
    "    if 'add' in [diff[0] for diff in diffs]:\n",
    "        table = bq_client.get_table(table_id)\n",
    "        current_schema = table.schema\n",
    "        current_schema_col_names = [col.name for col in current_schema]\n",
    "        for diff in diffs:\n",
    "            if diff[0] == 'add':\n",
    "                bq_schema_field = diff[1]\n",
    "                col_name = bq_schema_field.name\n",
    "                if col_name not in current_schema_col_names:\n",
    "                    if print_info:\n",
    "                        print(f'adding {bq_schema_field} to {table_id}')\n",
    "                    new_schema = current_schema[:]\n",
    "                    new_schema.append(bq_schema_field)\n",
    "                    table.schema = new_schema\n",
    "                    table = bq_client.update_table(table, [\"schema\"])\n",
    "    return True\n",
    "\n"
   ]
  },
  {
   "cell_type": "code",
   "execution_count": null,
   "metadata": {},
   "outputs": [],
   "source": [
    "#export\n",
    "\n",
    "\n",
    "def update_df_schema(bq_client, table_id: str, diffs: list, df: pd.DataFrame, print_info: bool = True) -> pd.DataFrame:\n",
    "    \"\"\"\n",
    "    Given a list of diffs add any columns expected but not found in df.\n",
    "    \"\"\"\n",
    "    # only do work if some 'drops's in diffs\n",
    "    if 'drop' in [diff[0] for diff in diffs]:\n",
    "        for diff in diffs:\n",
    "            if diff[0] == 'drop':\n",
    "                col_name = diff[1].name\n",
    "                if col_name not in df.columns:\n",
    "                    if print_info:\n",
    "                        print(f'adding {col_name} to df')\n",
    "                    df[col_name] = None\n",
    "    table = bq_client.get_table(table_id)\n",
    "    bq_schema = table.schema\n",
    "    bq_schema_col_names = [col.name for col in bq_schema]\n",
    "    df = df[bq_schema_col_names]\n",
    "    return df\n",
    "\n"
   ]
  },
  {
   "cell_type": "code",
   "execution_count": null,
   "metadata": {},
   "outputs": [],
   "source": []
  },
  {
   "cell_type": "code",
   "execution_count": null,
   "metadata": {},
   "outputs": [],
   "source": []
  }
 ],
 "metadata": {
  "kernelspec": {
   "display_name": "Python 3",
   "language": "python",
   "name": "python3"
  }
 },
 "nbformat": 4,
 "nbformat_minor": 4
}
