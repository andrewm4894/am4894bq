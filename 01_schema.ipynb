{
 "cells": [
  {
   "cell_type": "code",
   "execution_count": 1,
   "metadata": {},
   "outputs": [],
   "source": [
    "#hide\n",
    "%load_ext autoreload\n",
    "%autoreload 2"
   ]
  },
  {
   "cell_type": "code",
   "execution_count": 2,
   "metadata": {},
   "outputs": [],
   "source": [
    "# default_exp schema"
   ]
  },
  {
   "cell_type": "markdown",
   "metadata": {},
   "source": [
    "# schema\n",
    "\n",
    "> API details."
   ]
  },
  {
   "cell_type": "code",
   "execution_count": 3,
   "metadata": {},
   "outputs": [],
   "source": [
    "#hide\n",
    "from nbdev.showdoc import *"
   ]
  },
  {
   "cell_type": "code",
   "execution_count": 4,
   "metadata": {},
   "outputs": [],
   "source": [
    "#export\n",
    "from dotenv import load_dotenv\n",
    "load_dotenv()\n",
    "from google.cloud import bigquery\n",
    "\n",
    "\n",
    "def get_schema(table_id):\n",
    "    \"\"\"Get schema given a table_id.\n",
    "    \"\"\"\n",
    "    client = bigquery.Client()\n",
    "    table = client.get_table(table_id)\n",
    "    schema = table.schema\n",
    "    return schema"
   ]
  },
  {
   "cell_type": "code",
   "execution_count": 5,
   "metadata": {},
   "outputs": [
    {
     "data": {
      "text/plain": [
       "[SchemaField('stn', 'STRING', 'NULLABLE', 'Station number (WMO/DATSAV3 number) for the location', ()),\n",
       " SchemaField('wban', 'STRING', 'NULLABLE', 'WBAN number where applicable--this is the historical \"Weather Bureau Air Force Navy\" number - with WBAN being the acronym', ()),\n",
       " SchemaField('year', 'STRING', 'NULLABLE', 'The year', ()),\n",
       " SchemaField('mo', 'STRING', 'NULLABLE', 'The month', ()),\n",
       " SchemaField('da', 'STRING', 'NULLABLE', 'The day', ()),\n",
       " SchemaField('temp', 'FLOAT', 'NULLABLE', 'Mean temperature for the day in degrees Fahrenheit to tenths. Missing = 9999.9', ()),\n",
       " SchemaField('count_temp', 'INTEGER', 'NULLABLE', 'Number of observations used in calculating mean temperature', ()),\n",
       " SchemaField('dewp', 'FLOAT', 'NULLABLE', 'Mean dew point for the day in degreesm Fahrenheit to tenths.  Missing = 9999.9', ()),\n",
       " SchemaField('count_dewp', 'INTEGER', 'NULLABLE', 'Number of observations used in calculating mean dew point', ()),\n",
       " SchemaField('slp', 'FLOAT', 'NULLABLE', 'Mean sea level pressure for the day in millibars to tenths. Missing = 9999.9', ()),\n",
       " SchemaField('count_slp', 'INTEGER', 'NULLABLE', 'Number of observations used in calculating mean sea level pressure', ()),\n",
       " SchemaField('stp', 'FLOAT', 'NULLABLE', 'Mean station pressure for the day in millibars to tenths. Missing = 9999.9', ()),\n",
       " SchemaField('count_stp', 'INTEGER', 'NULLABLE', 'Number of observations used in calculating mean station pressure', ()),\n",
       " SchemaField('visib', 'FLOAT', 'NULLABLE', 'Mean visibility for the day in miles to tenths.  Missing = 999.9', ()),\n",
       " SchemaField('count_visib', 'INTEGER', 'NULLABLE', 'Number of observations used in calculating mean visibility', ()),\n",
       " SchemaField('wdsp', 'STRING', 'NULLABLE', 'Mean wind speed for the day in knots to tenths. Missing = 999.9', ()),\n",
       " SchemaField('count_wdsp', 'STRING', 'NULLABLE', 'Number of observations used in calculating mean wind speed', ()),\n",
       " SchemaField('mxpsd', 'STRING', 'NULLABLE', 'Maximum sustained wind speed reported for the day in knots to tenths. Missing = 999.9', ()),\n",
       " SchemaField('gust', 'FLOAT', 'NULLABLE', 'Maximum wind gust reported for the day in knots to tenths. Missing = 999.9', ()),\n",
       " SchemaField('max', 'FLOAT', 'NULLABLE', 'Maximum temperature reported during the day in Fahrenheit to tenths--time of max temp report varies by country and region, so this will sometimes not be the max for the calendar day. Missing = 9999.9', ()),\n",
       " SchemaField('flag_max', 'STRING', 'NULLABLE', \"Blank indicates max temp was taken from the explicit max temp report and not from the 'hourly' data.\\n* indicates max temp was  derived from the hourly data (i.e., highest hourly or synoptic-reported temperature)\", ()),\n",
       " SchemaField('min', 'FLOAT', 'NULLABLE', 'Minimum temperature reported during the day in Fahrenheit to tenths--time of min temp report varies by country and region, so this will sometimes not be the min for the calendar day. Missing = 9999.9', ()),\n",
       " SchemaField('flag_min', 'STRING', 'NULLABLE', \"Blank indicates min temp was taken from the explicit min temp report and not from the 'hourly' data.\\n* indicates min temp was derived from the hourly data (i.e., lowest hourly or synoptic-reported temperature)\", ()),\n",
       " SchemaField('prcp', 'FLOAT', 'NULLABLE', \"Total precipitation (rain and/or melted snow) reported during the day in inches and hundredths; will usually not end with the midnight observation--i.e., may include latter part of previous day. \\n.00 indicates no measurable precipitation (includes a trace).\\nMissing = 99.99\\nNote: Many stations do not report '0' on days with no precipitation--therefore, '99.99' will often appear on these days. Also, for example, a station may only report a 6-hour amount for the period during which rain fell. See Flag field for source of data\", ()),\n",
       " SchemaField('flag_prcp', 'STRING', 'NULLABLE', \"A = 1 report of 6-hour precipitation amount\\nB = Summation of 2 reports of 6-hour precipitation amount\\nC = Summation of 3 reports of 6-hour precipitation amount\\nD = Summation of 4 reports of 6-hour precipitation amount\\nE = 1 report of 12-hour precipitation amount\\nF = Summation of 2 reports of 12-hour precipitation amount\\nG = 1 report of 24-hour precipitation amount\\nH = Station reported '0' as the amount for the day (eg, from 6-hour reports), but also reported at least one occurrence of precipitation in hourly observations--this could indicate a trace occurred, but should be considered as incomplete data for the day.\\nI = Station did not report any precip data for the day and did not report any occurrences of precipitation in its hourly observations--it's still possible that precip occurred but was not reported\", ()),\n",
       " SchemaField('sndp', 'FLOAT', 'NULLABLE', \"Snow depth in inches to tenths--last report for the day if reported more thanonce. Missing = 999.9\\nNote: Most stations do not report '0' ondays with no snow on the ground--therefore, '999.9' will often appear on these days\", ()),\n",
       " SchemaField('fog', 'STRING', 'NULLABLE', 'Indicators (1 = yes, 0 = no/not reported) for the occurrence during the day', ()),\n",
       " SchemaField('rain_drizzle', 'STRING', 'NULLABLE', 'Indicators (1 = yes, 0 = no/not reported) for the occurrence during the day', ()),\n",
       " SchemaField('snow_ice_pellets', 'STRING', 'NULLABLE', 'Indicators (1 = yes, 0 = no/not reported) for the occurrence during the day', ()),\n",
       " SchemaField('hail', 'STRING', 'NULLABLE', 'Indicators (1 = yes, 0 = no/not reported) for the occurrence during the day', ()),\n",
       " SchemaField('thunder', 'STRING', 'NULLABLE', 'Indicators (1 = yes, 0 = no/not reported) for the occurrence during the day', ()),\n",
       " SchemaField('tornado_funnel_cloud', 'STRING', 'NULLABLE', 'Indicators (1 = yes, 0 = no/not reported) for the occurrence during the day', ())]"
      ]
     },
     "execution_count": 5,
     "metadata": {},
     "output_type": "execute_result"
    }
   ],
   "source": [
    "# for exampel get a schema for a table\n",
    "get_schema('bigquery-public-data.noaa_gsod.gsod1929')"
   ]
  }
 ],
 "metadata": {
  "kernelspec": {
   "display_name": "Python 3",
   "language": "python",
   "name": "python3"
  },
  "language_info": {
   "codemirror_mode": {
    "name": "ipython",
    "version": 3
   },
   "file_extension": ".py",
   "mimetype": "text/x-python",
   "name": "python",
   "nbconvert_exporter": "python",
   "pygments_lexer": "ipython3",
   "version": "3.8.2"
  }
 },
 "nbformat": 4,
 "nbformat_minor": 4
}
