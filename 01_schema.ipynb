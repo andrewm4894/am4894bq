{
 "cells": [
  {
   "cell_type": "code",
   "execution_count": null,
   "metadata": {},
   "outputs": [],
   "source": [
    "#hide\n",
    "%load_ext autoreload\n",
    "%autoreload 2"
   ]
  },
  {
   "cell_type": "code",
   "execution_count": null,
   "metadata": {},
   "outputs": [],
   "source": [
    "#hide\n",
    "#export\n",
    "import pandas as pd\n",
    "from dotenv import load_dotenv\n",
    "load_dotenv()\n",
    "from google.cloud import bigquery"
   ]
  },
  {
   "cell_type": "code",
   "execution_count": null,
   "metadata": {},
   "outputs": [],
   "source": [
    "# default_exp schema"
   ]
  },
  {
   "cell_type": "markdown",
   "metadata": {},
   "source": [
    "# schema\n",
    "\n",
    "> API details."
   ]
  },
  {
   "cell_type": "code",
   "execution_count": null,
   "metadata": {},
   "outputs": [],
   "source": [
    "#hide\n",
    "from nbdev.showdoc import *"
   ]
  },
  {
   "cell_type": "code",
   "execution_count": null,
   "metadata": {},
   "outputs": [],
   "source": [
    "#export\n",
    "\n",
    "\n",
    "def get_schema(table_id: str) -> list:\n",
    "    \"\"\"Get schema given a table_id.\n",
    "    \"\"\"\n",
    "    client = bigquery.Client()\n",
    "    table = client.get_table(table_id)\n",
    "    schema = table.schema\n",
    "    return schema\n",
    "\n"
   ]
  },
  {
   "cell_type": "code",
   "execution_count": null,
   "metadata": {},
   "outputs": [
    {
     "data": {
      "text/plain": [
       "[SchemaField('word', 'STRING', 'REQUIRED', 'A single unique word (where whitespace is the delimiter) extracted from a corpus.', ()),\n",
       " SchemaField('word_count', 'INTEGER', 'REQUIRED', 'The number of times this word appears in this corpus.', ()),\n",
       " SchemaField('corpus', 'STRING', 'REQUIRED', 'The work from which this word was extracted.', ()),\n",
       " SchemaField('corpus_date', 'INTEGER', 'REQUIRED', 'The year in which this corpus was published.', ())]"
      ]
     },
     "execution_count": null,
     "metadata": {},
     "output_type": "execute_result"
    }
   ],
   "source": [
    "# for example get a schema for a sample table\n",
    "schema = get_schema('bigquery-public-data.samples.shakespeare')\n",
    "schema"
   ]
  },
  {
   "cell_type": "code",
   "execution_count": null,
   "metadata": {},
   "outputs": [],
   "source": [
    "# add some tests\n",
    "schema = get_schema('bigquery-public-data.samples.shakespeare')\n",
    "assert len(schema) == 4\n",
    "assert [col.name for col in schema] == ['word', 'word_count', 'corpus', 'corpus_date']"
   ]
  },
  {
   "cell_type": "code",
   "execution_count": null,
   "metadata": {},
   "outputs": [],
   "source": [
    "#export\n",
    "\n",
    "\n",
    "def dtype_to_bqtype(dtype, default_type: str = 'STRING') -> str:\n",
    "    \"Convert from a pandas type to BigQuery type.\"\n",
    "    bqtype = default_type\n",
    "    if dtype == 'int64':\n",
    "        bqtype = 'INTEGER'\n",
    "    return bqtype\n",
    "\n",
    "\n",
    "def df_to_bq_schema(df):\n",
    "    \"Read a pandas DF and return a BigQuery schema for that DF.\"\n",
    "    schema = []\n",
    "    for col, dtype in df.dtypes.iteritems():\n",
    "        schema.append(bigquery.SchemaField(col, dtype_to_bqtype(dtype)))\n",
    "    return schema\n",
    "\n"
   ]
  },
  {
   "cell_type": "code",
   "execution_count": null,
   "metadata": {},
   "outputs": [],
   "source": []
  }
 ],
 "metadata": {
  "kernelspec": {
   "display_name": "Python 3",
   "language": "python",
   "name": "python3"
  }
 },
 "nbformat": 4,
 "nbformat_minor": 4
}
